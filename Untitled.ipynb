{
 "cells": [
  {
   "cell_type": "code",
   "execution_count": 1,
   "id": "a0346c16",
   "metadata": {},
   "outputs": [],
   "source": [
    "import pandas as pd\n",
    "import numpy as np\n",
    "import matplotlib.pyplot as plt\n",
    "import seaborn as sns\n"
   ]
  },
  {
   "cell_type": "code",
   "execution_count": 2,
   "id": "5962ce23",
   "metadata": {},
   "outputs": [],
   "source": [
    "df = pd.read_csv('gld_price_data.csv')"
   ]
  },
  {
   "cell_type": "code",
   "execution_count": 3,
   "id": "81547fe1",
   "metadata": {},
   "outputs": [
    {
     "data": {
      "text/html": [
       "<div>\n",
       "<style scoped>\n",
       "    .dataframe tbody tr th:only-of-type {\n",
       "        vertical-align: middle;\n",
       "    }\n",
       "\n",
       "    .dataframe tbody tr th {\n",
       "        vertical-align: top;\n",
       "    }\n",
       "\n",
       "    .dataframe thead th {\n",
       "        text-align: right;\n",
       "    }\n",
       "</style>\n",
       "<table border=\"1\" class=\"dataframe\">\n",
       "  <thead>\n",
       "    <tr style=\"text-align: right;\">\n",
       "      <th></th>\n",
       "      <th>Date</th>\n",
       "      <th>SPX</th>\n",
       "      <th>GLD</th>\n",
       "      <th>USO</th>\n",
       "      <th>SLV</th>\n",
       "      <th>EUR/USD</th>\n",
       "    </tr>\n",
       "  </thead>\n",
       "  <tbody>\n",
       "    <tr>\n",
       "      <th>0</th>\n",
       "      <td>1/2/2008</td>\n",
       "      <td>1447.160034</td>\n",
       "      <td>84.860001</td>\n",
       "      <td>78.470001</td>\n",
       "      <td>15.180</td>\n",
       "      <td>1.471692</td>\n",
       "    </tr>\n",
       "    <tr>\n",
       "      <th>1</th>\n",
       "      <td>1/3/2008</td>\n",
       "      <td>1447.160034</td>\n",
       "      <td>85.570000</td>\n",
       "      <td>78.370003</td>\n",
       "      <td>15.285</td>\n",
       "      <td>1.474491</td>\n",
       "    </tr>\n",
       "    <tr>\n",
       "      <th>2</th>\n",
       "      <td>1/4/2008</td>\n",
       "      <td>1411.630005</td>\n",
       "      <td>85.129997</td>\n",
       "      <td>77.309998</td>\n",
       "      <td>15.167</td>\n",
       "      <td>1.475492</td>\n",
       "    </tr>\n",
       "    <tr>\n",
       "      <th>3</th>\n",
       "      <td>1/7/2008</td>\n",
       "      <td>1416.180054</td>\n",
       "      <td>84.769997</td>\n",
       "      <td>75.500000</td>\n",
       "      <td>15.053</td>\n",
       "      <td>1.468299</td>\n",
       "    </tr>\n",
       "    <tr>\n",
       "      <th>4</th>\n",
       "      <td>1/8/2008</td>\n",
       "      <td>1390.189941</td>\n",
       "      <td>86.779999</td>\n",
       "      <td>76.059998</td>\n",
       "      <td>15.590</td>\n",
       "      <td>1.557099</td>\n",
       "    </tr>\n",
       "  </tbody>\n",
       "</table>\n",
       "</div>"
      ],
      "text/plain": [
       "       Date          SPX        GLD        USO     SLV   EUR/USD\n",
       "0  1/2/2008  1447.160034  84.860001  78.470001  15.180  1.471692\n",
       "1  1/3/2008  1447.160034  85.570000  78.370003  15.285  1.474491\n",
       "2  1/4/2008  1411.630005  85.129997  77.309998  15.167  1.475492\n",
       "3  1/7/2008  1416.180054  84.769997  75.500000  15.053  1.468299\n",
       "4  1/8/2008  1390.189941  86.779999  76.059998  15.590  1.557099"
      ]
     },
     "execution_count": 3,
     "metadata": {},
     "output_type": "execute_result"
    }
   ],
   "source": [
    "df.head()"
   ]
  },
  {
   "cell_type": "code",
   "execution_count": 4,
   "id": "b9640a7f",
   "metadata": {},
   "outputs": [
    {
     "data": {
      "text/html": [
       "<div>\n",
       "<style scoped>\n",
       "    .dataframe tbody tr th:only-of-type {\n",
       "        vertical-align: middle;\n",
       "    }\n",
       "\n",
       "    .dataframe tbody tr th {\n",
       "        vertical-align: top;\n",
       "    }\n",
       "\n",
       "    .dataframe thead th {\n",
       "        text-align: right;\n",
       "    }\n",
       "</style>\n",
       "<table border=\"1\" class=\"dataframe\">\n",
       "  <thead>\n",
       "    <tr style=\"text-align: right;\">\n",
       "      <th></th>\n",
       "      <th>Date</th>\n",
       "      <th>SPX</th>\n",
       "      <th>GLD</th>\n",
       "      <th>USO</th>\n",
       "      <th>SLV</th>\n",
       "      <th>EUR/USD</th>\n",
       "    </tr>\n",
       "  </thead>\n",
       "  <tbody>\n",
       "    <tr>\n",
       "      <th>2285</th>\n",
       "      <td>5/8/2018</td>\n",
       "      <td>2671.919922</td>\n",
       "      <td>124.589996</td>\n",
       "      <td>14.0600</td>\n",
       "      <td>15.5100</td>\n",
       "      <td>1.186789</td>\n",
       "    </tr>\n",
       "    <tr>\n",
       "      <th>2286</th>\n",
       "      <td>5/9/2018</td>\n",
       "      <td>2697.790039</td>\n",
       "      <td>124.330002</td>\n",
       "      <td>14.3700</td>\n",
       "      <td>15.5300</td>\n",
       "      <td>1.184722</td>\n",
       "    </tr>\n",
       "    <tr>\n",
       "      <th>2287</th>\n",
       "      <td>5/10/2018</td>\n",
       "      <td>2723.070068</td>\n",
       "      <td>125.180000</td>\n",
       "      <td>14.4100</td>\n",
       "      <td>15.7400</td>\n",
       "      <td>1.191753</td>\n",
       "    </tr>\n",
       "    <tr>\n",
       "      <th>2288</th>\n",
       "      <td>5/14/2018</td>\n",
       "      <td>2730.129883</td>\n",
       "      <td>124.489998</td>\n",
       "      <td>14.3800</td>\n",
       "      <td>15.5600</td>\n",
       "      <td>1.193118</td>\n",
       "    </tr>\n",
       "    <tr>\n",
       "      <th>2289</th>\n",
       "      <td>5/16/2018</td>\n",
       "      <td>2725.780029</td>\n",
       "      <td>122.543800</td>\n",
       "      <td>14.4058</td>\n",
       "      <td>15.4542</td>\n",
       "      <td>1.182033</td>\n",
       "    </tr>\n",
       "  </tbody>\n",
       "</table>\n",
       "</div>"
      ],
      "text/plain": [
       "           Date          SPX         GLD      USO      SLV   EUR/USD\n",
       "2285   5/8/2018  2671.919922  124.589996  14.0600  15.5100  1.186789\n",
       "2286   5/9/2018  2697.790039  124.330002  14.3700  15.5300  1.184722\n",
       "2287  5/10/2018  2723.070068  125.180000  14.4100  15.7400  1.191753\n",
       "2288  5/14/2018  2730.129883  124.489998  14.3800  15.5600  1.193118\n",
       "2289  5/16/2018  2725.780029  122.543800  14.4058  15.4542  1.182033"
      ]
     },
     "execution_count": 4,
     "metadata": {},
     "output_type": "execute_result"
    }
   ],
   "source": [
    "df.tail()"
   ]
  },
  {
   "cell_type": "code",
   "execution_count": 5,
   "id": "14f924fa",
   "metadata": {},
   "outputs": [
    {
     "data": {
      "text/plain": [
       "Date        object\n",
       "SPX        float64\n",
       "GLD        float64\n",
       "USO        float64\n",
       "SLV        float64\n",
       "EUR/USD    float64\n",
       "dtype: object"
      ]
     },
     "execution_count": 5,
     "metadata": {},
     "output_type": "execute_result"
    }
   ],
   "source": [
    "df.dtypes"
   ]
  },
  {
   "cell_type": "code",
   "execution_count": 6,
   "id": "337d175f",
   "metadata": {},
   "outputs": [
    {
     "data": {
      "text/plain": [
       "Date       0\n",
       "SPX        0\n",
       "GLD        0\n",
       "USO        0\n",
       "SLV        0\n",
       "EUR/USD    0\n",
       "dtype: int64"
      ]
     },
     "execution_count": 6,
     "metadata": {},
     "output_type": "execute_result"
    }
   ],
   "source": [
    "df.isnull().sum()"
   ]
  },
  {
   "cell_type": "code",
   "execution_count": 7,
   "id": "9019182c",
   "metadata": {},
   "outputs": [
    {
     "data": {
      "text/plain": [
       "'1/2/2008'"
      ]
     },
     "execution_count": 7,
     "metadata": {},
     "output_type": "execute_result"
    }
   ],
   "source": [
    "g = df['Date'][0]\n",
    "g"
   ]
  },
  {
   "cell_type": "code",
   "execution_count": 8,
   "id": "e1e30be1",
   "metadata": {},
   "outputs": [],
   "source": [
    "df['Date'] = pd.to_datetime(df['Date'])\n",
    "df['Year'] = df['Date'].dt.year"
   ]
  },
  {
   "cell_type": "code",
   "execution_count": 9,
   "id": "cde44c5f",
   "metadata": {},
   "outputs": [
    {
     "data": {
      "text/html": [
       "<div>\n",
       "<style scoped>\n",
       "    .dataframe tbody tr th:only-of-type {\n",
       "        vertical-align: middle;\n",
       "    }\n",
       "\n",
       "    .dataframe tbody tr th {\n",
       "        vertical-align: top;\n",
       "    }\n",
       "\n",
       "    .dataframe thead th {\n",
       "        text-align: right;\n",
       "    }\n",
       "</style>\n",
       "<table border=\"1\" class=\"dataframe\">\n",
       "  <thead>\n",
       "    <tr style=\"text-align: right;\">\n",
       "      <th></th>\n",
       "      <th>Date</th>\n",
       "      <th>SPX</th>\n",
       "      <th>GLD</th>\n",
       "      <th>USO</th>\n",
       "      <th>SLV</th>\n",
       "      <th>EUR/USD</th>\n",
       "      <th>Year</th>\n",
       "    </tr>\n",
       "  </thead>\n",
       "  <tbody>\n",
       "    <tr>\n",
       "      <th>0</th>\n",
       "      <td>2008-01-02</td>\n",
       "      <td>1447.160034</td>\n",
       "      <td>84.860001</td>\n",
       "      <td>78.470001</td>\n",
       "      <td>15.180</td>\n",
       "      <td>1.471692</td>\n",
       "      <td>2008</td>\n",
       "    </tr>\n",
       "    <tr>\n",
       "      <th>1</th>\n",
       "      <td>2008-01-03</td>\n",
       "      <td>1447.160034</td>\n",
       "      <td>85.570000</td>\n",
       "      <td>78.370003</td>\n",
       "      <td>15.285</td>\n",
       "      <td>1.474491</td>\n",
       "      <td>2008</td>\n",
       "    </tr>\n",
       "    <tr>\n",
       "      <th>2</th>\n",
       "      <td>2008-01-04</td>\n",
       "      <td>1411.630005</td>\n",
       "      <td>85.129997</td>\n",
       "      <td>77.309998</td>\n",
       "      <td>15.167</td>\n",
       "      <td>1.475492</td>\n",
       "      <td>2008</td>\n",
       "    </tr>\n",
       "    <tr>\n",
       "      <th>3</th>\n",
       "      <td>2008-01-07</td>\n",
       "      <td>1416.180054</td>\n",
       "      <td>84.769997</td>\n",
       "      <td>75.500000</td>\n",
       "      <td>15.053</td>\n",
       "      <td>1.468299</td>\n",
       "      <td>2008</td>\n",
       "    </tr>\n",
       "    <tr>\n",
       "      <th>4</th>\n",
       "      <td>2008-01-08</td>\n",
       "      <td>1390.189941</td>\n",
       "      <td>86.779999</td>\n",
       "      <td>76.059998</td>\n",
       "      <td>15.590</td>\n",
       "      <td>1.557099</td>\n",
       "      <td>2008</td>\n",
       "    </tr>\n",
       "  </tbody>\n",
       "</table>\n",
       "</div>"
      ],
      "text/plain": [
       "        Date          SPX        GLD        USO     SLV   EUR/USD  Year\n",
       "0 2008-01-02  1447.160034  84.860001  78.470001  15.180  1.471692  2008\n",
       "1 2008-01-03  1447.160034  85.570000  78.370003  15.285  1.474491  2008\n",
       "2 2008-01-04  1411.630005  85.129997  77.309998  15.167  1.475492  2008\n",
       "3 2008-01-07  1416.180054  84.769997  75.500000  15.053  1.468299  2008\n",
       "4 2008-01-08  1390.189941  86.779999  76.059998  15.590  1.557099  2008"
      ]
     },
     "execution_count": 9,
     "metadata": {},
     "output_type": "execute_result"
    }
   ],
   "source": [
    "df.head()"
   ]
  },
  {
   "cell_type": "code",
   "execution_count": 10,
   "id": "e96061ed",
   "metadata": {},
   "outputs": [
    {
     "data": {
      "image/png": "[encoded data removed]",
      "text/plain": [
       "<Figure size 640x480 with 1 Axes>"
      ]
     },
     "metadata": {},
     "output_type": "display_data"
    }
   ],
   "source": [
    "plt.bar(df['Year'],df['GLD'])\n",
    "plt.xlabel('Year')\n",
    "plt.ylabel('Gold')\n",
    "plt.show()"
   ]
  },
  {
   "cell_type": "code",
   "execution_count": 11,
   "id": "45c0df1f",
   "metadata": {},
   "outputs": [
    {
     "data": {
      "image/png": "[encoded data removed]",
      "text/plain": [
       "<Figure size 640x480 with 1 Axes>"
      ]
     },
     "metadata": {},
     "output_type": "display_data"
    }
   ],
   "source": [
    "plt.bar(df['Year'],df['SLV'])\n",
    "plt.xlabel('Year')\n",
    "plt.ylabel('Silver')\n",
    "plt.show()"
   ]
  },
  {
   "cell_type": "code",
   "execution_count": 12,
   "id": "42445e15",
   "metadata": {},
   "outputs": [
    {
     "data": {
      "text/plain": [
       "Date       datetime64[ns]\n",
       "SPX               float64\n",
       "GLD               float64\n",
       "USO               float64\n",
       "SLV               float64\n",
       "EUR/USD           float64\n",
       "Year                int32\n",
       "dtype: object"
      ]
     },
     "execution_count": 12,
     "metadata": {},
     "output_type": "execute_result"
    }
   ],
   "source": [
    "df.dtypes"
   ]
  },
  {
   "cell_type": "code",
   "execution_count": 13,
   "id": "3a18ec0b",
   "metadata": {},
   "outputs": [],
   "source": [
    "df.drop(['Year'], axis = 1, inplace = True)"
   ]
  },
  {
   "cell_type": "code",
   "execution_count": 14,
   "id": "34d68a9d",
   "metadata": {},
   "outputs": [
    {
     "name": "stdout",
     "output_type": "stream",
     "text": [
      "           Date          SPX         GLD        USO      SLV   EUR/USD\n",
      "0    2008-01-02  1447.160034   84.860001  78.470001  15.1800  1.471692\n",
      "1    2008-01-03  1447.160034   85.570000  78.370003  15.2850  1.474491\n",
      "2    2008-01-04  1411.630005   85.129997  77.309998  15.1670  1.475492\n",
      "3    2008-01-07  1416.180054   84.769997  75.500000  15.0530  1.468299\n",
      "4    2008-01-08  1390.189941   86.779999  76.059998  15.5900  1.557099\n",
      "...         ...          ...         ...        ...      ...       ...\n",
      "2285 2018-05-08  2671.919922  124.589996  14.060000  15.5100  1.186789\n",
      "2286 2018-05-09  2697.790039  124.330002  14.370000  15.5300  1.184722\n",
      "2287 2018-05-10  2723.070068  125.180000  14.410000  15.7400  1.191753\n",
      "2288 2018-05-14  2730.129883  124.489998  14.380000  15.5600  1.193118\n",
      "2289 2018-05-16  2725.780029  122.543800  14.405800  15.4542  1.182033\n",
      "\n",
      "[2290 rows x 6 columns]\n"
     ]
    }
   ],
   "source": [
    "print(df)"
   ]
  },
  {
   "cell_type": "code",
   "execution_count": 15,
   "id": "de6e48d0",
   "metadata": {},
   "outputs": [
    {
     "data": {
      "text/html": [
       "<div>\n",
       "<style scoped>\n",
       "    .dataframe tbody tr th:only-of-type {\n",
       "        vertical-align: middle;\n",
       "    }\n",
       "\n",
       "    .dataframe tbody tr th {\n",
       "        vertical-align: top;\n",
       "    }\n",
       "\n",
       "    .dataframe thead th {\n",
       "        text-align: right;\n",
       "    }\n",
       "</style>\n",
       "<table border=\"1\" class=\"dataframe\">\n",
       "  <thead>\n",
       "    <tr style=\"text-align: right;\">\n",
       "      <th></th>\n",
       "      <th>Date</th>\n",
       "      <th>SPX</th>\n",
       "      <th>GLD</th>\n",
       "      <th>USO</th>\n",
       "      <th>SLV</th>\n",
       "      <th>EUR/USD</th>\n",
       "    </tr>\n",
       "  </thead>\n",
       "  <tbody>\n",
       "    <tr>\n",
       "      <th>count</th>\n",
       "      <td>2290</td>\n",
       "      <td>2290.000000</td>\n",
       "      <td>2290.000000</td>\n",
       "      <td>2290.000000</td>\n",
       "      <td>2290.000000</td>\n",
       "      <td>2290.000000</td>\n",
       "    </tr>\n",
       "    <tr>\n",
       "      <th>mean</th>\n",
       "      <td>2013-03-17 08:23:41.135371008</td>\n",
       "      <td>1654.315776</td>\n",
       "      <td>122.732875</td>\n",
       "      <td>31.842221</td>\n",
       "      <td>20.084997</td>\n",
       "      <td>1.283653</td>\n",
       "    </tr>\n",
       "    <tr>\n",
       "      <th>min</th>\n",
       "      <td>2008-01-02 00:00:00</td>\n",
       "      <td>676.530029</td>\n",
       "      <td>70.000000</td>\n",
       "      <td>7.960000</td>\n",
       "      <td>8.850000</td>\n",
       "      <td>1.039047</td>\n",
       "    </tr>\n",
       "    <tr>\n",
       "      <th>25%</th>\n",
       "      <td>2010-08-20 00:00:00</td>\n",
       "      <td>1239.874969</td>\n",
       "      <td>109.725000</td>\n",
       "      <td>14.380000</td>\n",
       "      <td>15.570000</td>\n",
       "      <td>1.171313</td>\n",
       "    </tr>\n",
       "    <tr>\n",
       "      <th>50%</th>\n",
       "      <td>2013-03-13 12:00:00</td>\n",
       "      <td>1551.434998</td>\n",
       "      <td>120.580002</td>\n",
       "      <td>33.869999</td>\n",
       "      <td>17.268500</td>\n",
       "      <td>1.303297</td>\n",
       "    </tr>\n",
       "    <tr>\n",
       "      <th>75%</th>\n",
       "      <td>2015-10-25 00:00:00</td>\n",
       "      <td>2073.010070</td>\n",
       "      <td>132.840004</td>\n",
       "      <td>37.827501</td>\n",
       "      <td>22.882500</td>\n",
       "      <td>1.369971</td>\n",
       "    </tr>\n",
       "    <tr>\n",
       "      <th>max</th>\n",
       "      <td>2018-05-16 00:00:00</td>\n",
       "      <td>2872.870117</td>\n",
       "      <td>184.589996</td>\n",
       "      <td>117.480003</td>\n",
       "      <td>47.259998</td>\n",
       "      <td>1.598798</td>\n",
       "    </tr>\n",
       "    <tr>\n",
       "      <th>std</th>\n",
       "      <td>NaN</td>\n",
       "      <td>519.111540</td>\n",
       "      <td>23.283346</td>\n",
       "      <td>19.523517</td>\n",
       "      <td>7.092566</td>\n",
       "      <td>0.131547</td>\n",
       "    </tr>\n",
       "  </tbody>\n",
       "</table>\n",
       "</div>"
      ],
      "text/plain": [
       "                                Date          SPX          GLD          USO  \\\n",
       "count                           2290  2290.000000  2290.000000  2290.000000   \n",
       "mean   2013-03-17 08:23:41.135371008  1654.315776   122.732875    31.842221   \n",
       "min              2008-01-02 00:00:00   676.530029    70.000000     7.960000   \n",
       "25%              2010-08-20 00:00:00  1239.874969   109.725000    14.380000   \n",
       "50%              2013-03-13 12:00:00  1551.434998   120.580002    33.869999   \n",
       "75%              2015-10-25 00:00:00  2073.010070   132.840004    37.827501   \n",
       "max              2018-05-16 00:00:00  2872.870117   184.589996   117.480003   \n",
       "std                              NaN   519.111540    23.283346    19.523517   \n",
       "\n",
       "               SLV      EUR/USD  \n",
       "count  2290.000000  2290.000000  \n",
       "mean     20.084997     1.283653  \n",
       "min       8.850000     1.039047  \n",
       "25%      15.570000     1.171313  \n",
       "50%      17.268500     1.303297  \n",
       "75%      22.882500     1.369971  \n",
       "max      47.259998     1.598798  \n",
       "std       7.092566     0.131547  "
      ]
     },
     "execution_count": 15,
     "metadata": {},
     "output_type": "execute_result"
    }
   ],
   "source": [
    "data = df.describe()\n",
    "data"
   ]
  },
  {
   "cell_type": "code",
   "execution_count": 16,
   "id": "222a8a13",
   "metadata": {},
   "outputs": [
    {
     "data": {
      "text/html": [
       "<div>\n",
       "<style scoped>\n",
       "    .dataframe tbody tr th:only-of-type {\n",
       "        vertical-align: middle;\n",
       "    }\n",
       "\n",
       "    .dataframe tbody tr th {\n",
       "        vertical-align: top;\n",
       "    }\n",
       "\n",
       "    .dataframe thead th {\n",
       "        text-align: right;\n",
       "    }\n",
       "</style>\n",
       "<table border=\"1\" class=\"dataframe\">\n",
       "  <thead>\n",
       "    <tr style=\"text-align: right;\">\n",
       "      <th></th>\n",
       "      <th>Date</th>\n",
       "      <th>SPX</th>\n",
       "      <th>GLD</th>\n",
       "      <th>USO</th>\n",
       "      <th>SLV</th>\n",
       "      <th>EUR/USD</th>\n",
       "    </tr>\n",
       "  </thead>\n",
       "  <tbody>\n",
       "    <tr>\n",
       "      <th>Date</th>\n",
       "      <td>1.000000</td>\n",
       "      <td>0.944033</td>\n",
       "      <td>0.209118</td>\n",
       "      <td>-0.782230</td>\n",
       "      <td>-0.174108</td>\n",
       "      <td>-0.794540</td>\n",
       "    </tr>\n",
       "    <tr>\n",
       "      <th>SPX</th>\n",
       "      <td>0.944033</td>\n",
       "      <td>1.000000</td>\n",
       "      <td>0.049345</td>\n",
       "      <td>-0.591573</td>\n",
       "      <td>-0.274055</td>\n",
       "      <td>-0.672017</td>\n",
       "    </tr>\n",
       "    <tr>\n",
       "      <th>GLD</th>\n",
       "      <td>0.209118</td>\n",
       "      <td>0.049345</td>\n",
       "      <td>1.000000</td>\n",
       "      <td>-0.186360</td>\n",
       "      <td>0.866632</td>\n",
       "      <td>-0.024375</td>\n",
       "    </tr>\n",
       "    <tr>\n",
       "      <th>USO</th>\n",
       "      <td>-0.782230</td>\n",
       "      <td>-0.591573</td>\n",
       "      <td>-0.186360</td>\n",
       "      <td>1.000000</td>\n",
       "      <td>0.167547</td>\n",
       "      <td>0.829317</td>\n",
       "    </tr>\n",
       "    <tr>\n",
       "      <th>SLV</th>\n",
       "      <td>-0.174108</td>\n",
       "      <td>-0.274055</td>\n",
       "      <td>0.866632</td>\n",
       "      <td>0.167547</td>\n",
       "      <td>1.000000</td>\n",
       "      <td>0.321631</td>\n",
       "    </tr>\n",
       "    <tr>\n",
       "      <th>EUR/USD</th>\n",
       "      <td>-0.794540</td>\n",
       "      <td>-0.672017</td>\n",
       "      <td>-0.024375</td>\n",
       "      <td>0.829317</td>\n",
       "      <td>0.321631</td>\n",
       "      <td>1.000000</td>\n",
       "    </tr>\n",
       "  </tbody>\n",
       "</table>\n",
       "</div>"
      ],
      "text/plain": [
       "             Date       SPX       GLD       USO       SLV   EUR/USD\n",
       "Date     1.000000  0.944033  0.209118 -0.782230 -0.174108 -0.794540\n",
       "SPX      0.944033  1.000000  0.049345 -0.591573 -0.274055 -0.672017\n",
       "GLD      0.209118  0.049345  1.000000 -0.186360  0.866632 -0.024375\n",
       "USO     -0.782230 -0.591573 -0.186360  1.000000  0.167547  0.829317\n",
       "SLV     -0.174108 -0.274055  0.866632  0.167547  1.000000  0.321631\n",
       "EUR/USD -0.794540 -0.672017 -0.024375  0.829317  0.321631  1.000000"
      ]
     },
     "execution_count": 16,
     "metadata": {},
     "output_type": "execute_result"
    }
   ],
   "source": [
    "### Finding the correlstion between coloumns\n",
    "correlation = df.corr()\n",
    "correlation\n",
    "\n"
   ]
  },
  {
   "cell_type": "markdown",
   "id": "efe4895b",
   "metadata": {},
   "source": [
    "A correlation coefficient of 1 indicates a perfect positive correlation, meaning as one variable increases, the other variable also increases proportionally.\n",
    "A correlation coefficient of -1 indicates a perfect negative correlation, meaning as one variable increases, the other variable decreases proportionally."
   ]
  },
  {
   "cell_type": "code",
   "execution_count": 17,
   "id": "7d34a7a8",
   "metadata": {},
   "outputs": [
    {
     "data": {
      "text/plain": [
       "<Axes: >"
      ]
     },
     "execution_count": 17,
     "metadata": {},
     "output_type": "execute_result"
    },
    {
     "data": {
      "image/png": "[encoded data removed]",
      "text/plain": [
       "<Figure size 800x800 with 2 Axes>"
      ]
     },
     "metadata": {},
     "output_type": "display_data"
    }
   ],
   "source": [
    "## plotting heat map\n",
    "plt.figure(figsize = (8,8))\n",
    "sns.heatmap(correlation, cbar=True, square=True, fmt='.1f',annot=True, annot_kws={'size':8}, cmap='Blues')"
   ]
  },
  {
   "cell_type": "code",
   "execution_count": 18,
   "id": "f5753d9a",
   "metadata": {},
   "outputs": [
    {
     "data": {
      "text/plain": [
       "<Axes: xlabel='GLD', ylabel='Count'>"
      ]
     },
     "execution_count": 18,
     "metadata": {},
     "output_type": "execute_result"
    },
    {
     "data": {
      "image/png": "[encoded data removed]",
      "text/plain": [
       "<Figure size 640x480 with 1 Axes>"
      ]
     },
     "metadata": {},
     "output_type": "display_data"
    }
   ],
   "source": [
    "sns.histplot(df['GLD'],color='green')"
   ]
  },
  {
   "cell_type": "code",
   "execution_count": 19,
   "id": "445e717a",
   "metadata": {
    "scrolled": true
   },
   "outputs": [
    {
     "name": "stderr",
     "output_type": "stream",
     "text": [
      "C:\\Users\\Dell\\AppData\\Local\\Temp\\ipykernel_2288\\3736964373.py:1: UserWarning: \n",
      "\n",
      "`distplot` is a deprecated function and will be removed in seaborn v0.14.0.\n",
      "\n",
      "Please adapt your code to use either `displot` (a figure-level function with\n",
      "similar flexibility) or `histplot` (an axes-level function for histograms).\n",
      "\n",
      "For a guide to updating your code to use the new functions, please see\n",
      "https://gist.github.com/mwaskom/de44147ed2974457ad6372750bbe5751\n",
      "\n",
      "  sns.distplot(df['GLD'],color='green')\n"
     ]
    },
    {
     "data": {
      "text/plain": [
       "<Axes: xlabel='GLD', ylabel='Density'>"
      ]
     },
     "execution_count": 19,
     "metadata": {},
     "output_type": "execute_result"
    },
    {
     "data": {
      "image/png": "[encoded data removed]",
      "text/plain": [
       "<Figure size 640x480 with 1 Axes>"
      ]
     },
     "metadata": {},
     "output_type": "display_data"
    }
   ],
   "source": [
    "sns.distplot(df['GLD'],color='green')"
   ]
  },
  {
   "cell_type": "code",
   "execution_count": 20,
   "id": "9abd9757",
   "metadata": {},
   "outputs": [],
   "source": [
    "from sklearn.model_selection import train_test_split"
   ]
  },
  {
   "cell_type": "code",
   "execution_count": 21,
   "id": "3aeafe76",
   "metadata": {},
   "outputs": [],
   "source": [
    "X = df.drop(['Date','GLD'], axis = 1)\n",
    "Y = df['GLD']"
   ]
  },
  {
   "cell_type": "code",
   "execution_count": 22,
   "id": "1aaefec5",
   "metadata": {},
   "outputs": [
    {
     "data": {
      "text/html": [
       "<div>\n",
       "<style scoped>\n",
       "    .dataframe tbody tr th:only-of-type {\n",
       "        vertical-align: middle;\n",
       "    }\n",
       "\n",
       "    .dataframe tbody tr th {\n",
       "        vertical-align: top;\n",
       "    }\n",
       "\n",
       "    .dataframe thead th {\n",
       "        text-align: right;\n",
       "    }\n",
       "</style>\n",
       "<table border=\"1\" class=\"dataframe\">\n",
       "  <thead>\n",
       "    <tr style=\"text-align: right;\">\n",
       "      <th></th>\n",
       "      <th>SPX</th>\n",
       "      <th>USO</th>\n",
       "      <th>SLV</th>\n",
       "      <th>EUR/USD</th>\n",
       "    </tr>\n",
       "  </thead>\n",
       "  <tbody>\n",
       "    <tr>\n",
       "      <th>0</th>\n",
       "      <td>1447.160034</td>\n",
       "      <td>78.470001</td>\n",
       "      <td>15.180</td>\n",
       "      <td>1.471692</td>\n",
       "    </tr>\n",
       "    <tr>\n",
       "      <th>1</th>\n",
       "      <td>1447.160034</td>\n",
       "      <td>78.370003</td>\n",
       "      <td>15.285</td>\n",
       "      <td>1.474491</td>\n",
       "    </tr>\n",
       "    <tr>\n",
       "      <th>2</th>\n",
       "      <td>1411.630005</td>\n",
       "      <td>77.309998</td>\n",
       "      <td>15.167</td>\n",
       "      <td>1.475492</td>\n",
       "    </tr>\n",
       "    <tr>\n",
       "      <th>3</th>\n",
       "      <td>1416.180054</td>\n",
       "      <td>75.500000</td>\n",
       "      <td>15.053</td>\n",
       "      <td>1.468299</td>\n",
       "    </tr>\n",
       "    <tr>\n",
       "      <th>4</th>\n",
       "      <td>1390.189941</td>\n",
       "      <td>76.059998</td>\n",
       "      <td>15.590</td>\n",
       "      <td>1.557099</td>\n",
       "    </tr>\n",
       "  </tbody>\n",
       "</table>\n",
       "</div>"
      ],
      "text/plain": [
       "           SPX        USO     SLV   EUR/USD\n",
       "0  1447.160034  78.470001  15.180  1.471692\n",
       "1  1447.160034  78.370003  15.285  1.474491\n",
       "2  1411.630005  77.309998  15.167  1.475492\n",
       "3  1416.180054  75.500000  15.053  1.468299\n",
       "4  1390.189941  76.059998  15.590  1.557099"
      ]
     },
     "execution_count": 22,
     "metadata": {},
     "output_type": "execute_result"
    }
   ],
   "source": [
    "X.head()"
   ]
  },
  {
   "cell_type": "code",
   "execution_count": 23,
   "id": "a36138a8",
   "metadata": {},
   "outputs": [
    {
     "data": {
      "text/plain": [
       "0    84.860001\n",
       "1    85.570000\n",
       "2    85.129997\n",
       "3    84.769997\n",
       "4    86.779999\n",
       "Name: GLD, dtype: float64"
      ]
     },
     "execution_count": 23,
     "metadata": {},
     "output_type": "execute_result"
    }
   ],
   "source": [
    "Y.head()"
   ]
  },
  {
   "cell_type": "code",
   "execution_count": 24,
   "id": "b848fb29",
   "metadata": {},
   "outputs": [],
   "source": [
    "X_train, X_test, Y_train, Y_test = train_test_split(X,Y,test_size = 0.3, random_state = 2)"
   ]
  },
  {
   "cell_type": "code",
   "execution_count": 25,
   "id": "8a96d2e9",
   "metadata": {},
   "outputs": [],
   "source": [
    "from sklearn.ensemble import RandomForestRegressor\n",
    "from sklearn import metrics"
   ]
  },
  {
   "cell_type": "code",
   "execution_count": 26,
   "id": "ceb8b251",
   "metadata": {},
   "outputs": [],
   "source": [
    "random_reg = RandomForestRegressor(n_estimators = 100)"
   ]
  },
  {
   "cell_type": "code",
   "execution_count": 27,
   "id": "43f6f80f",
   "metadata": {},
   "outputs": [
    {
     "data": {
      "text/html": [
       "<style>#sk-container-id-1 {color: black;}#sk-container-id-1 pre{padding: 0;}#sk-container-id-1 div.sk-toggleable {background-color: white;}#sk-container-id-1 label.sk-toggleable__label {cursor: pointer;display: block;width: 100%;margin-bottom: 0;padding: 0.3em;box-sizing: border-box;text-align: center;}#sk-container-id-1 label.sk-toggleable__label-arrow:before {content: \"▸\";float: left;margin-right: 0.25em;color: #696969;}#sk-container-id-1 label.sk-toggleable__label-arrow:hover:before {color: black;}#sk-container-id-1 div.sk-estimator:hover label.sk-toggleable__label-arrow:before {color: black;}#sk-container-id-1 div.sk-toggleable__content {max-height: 0;max-width: 0;overflow: hidden;text-align: left;background-color: #f0f8ff;}#sk-container-id-1 div.sk-toggleable__content pre {margin: 0.2em;color: black;border-radius: 0.25em;background-color: #f0f8ff;}#sk-container-id-1 input.sk-toggleable__control:checked~div.sk-toggleable__content {max-height: 200px;max-width: 100%;overflow: auto;}#sk-container-id-1 input.sk-toggleable__control:checked~label.sk-toggleable__label-arrow:before {content: \"▾\";}#sk-container-id-1 div.sk-estimator input.sk-toggleable__control:checked~label.sk-toggleable__label {background-color: #d4ebff;}#sk-container-id-1 div.sk-label input.sk-toggleable__control:checked~label.sk-toggleable__label {background-color: #d4ebff;}#sk-container-id-1 input.sk-hidden--visually {border: 0;clip: rect(1px 1px 1px 1px);clip: rect(1px, 1px, 1px, 1px);height: 1px;margin: -1px;overflow: hidden;padding: 0;position: absolute;width: 1px;}#sk-container-id-1 div.sk-estimator {font-family: monospace;background-color: #f0f8ff;border: 1px dotted black;border-radius: 0.25em;box-sizing: border-box;margin-bottom: 0.5em;}#sk-container-id-1 div.sk-estimator:hover {background-color: #d4ebff;}#sk-container-id-1 div.sk-parallel-item::after {content: \"\";width: 100%;border-bottom: 1px solid gray;flex-grow: 1;}#sk-container-id-1 div.sk-label:hover label.sk-toggleable__label {background-color: #d4ebff;}#sk-container-id-1 div.sk-serial::before {content: \"\";position: absolute;border-left: 1px solid gray;box-sizing: border-box;top: 0;bottom: 0;left: 50%;z-index: 0;}#sk-container-id-1 div.sk-serial {display: flex;flex-direction: column;align-items: center;background-color: white;padding-right: 0.2em;padding-left: 0.2em;position: relative;}#sk-container-id-1 div.sk-item {position: relative;z-index: 1;}#sk-container-id-1 div.sk-parallel {display: flex;align-items: stretch;justify-content: center;background-color: white;position: relative;}#sk-container-id-1 div.sk-item::before, #sk-container-id-1 div.sk-parallel-item::before {content: \"\";position: absolute;border-left: 1px solid gray;box-sizing: border-box;top: 0;bottom: 0;left: 50%;z-index: -1;}#sk-container-id-1 div.sk-parallel-item {display: flex;flex-direction: column;z-index: 1;position: relative;background-color: white;}#sk-container-id-1 div.sk-parallel-item:first-child::after {align-self: flex-end;width: 50%;}#sk-container-id-1 div.sk-parallel-item:last-child::after {align-self: flex-start;width: 50%;}#sk-container-id-1 div.sk-parallel-item:only-child::after {width: 0;}#sk-container-id-1 div.sk-dashed-wrapped {border: 1px dashed gray;margin: 0 0.4em 0.5em 0.4em;box-sizing: border-box;padding-bottom: 0.4em;background-color: white;}#sk-container-id-1 div.sk-label label {font-family: monospace;font-weight: bold;display: inline-block;line-height: 1.2em;}#sk-container-id-1 div.sk-label-container {text-align: center;}#sk-container-id-1 div.sk-container {/* jupyter's `normalize.less` sets `[hidden] { display: none; }` but bootstrap.min.css set `[hidden] { display: none !important; }` so we also need the `!important` here to be able to override the default hidden behavior on the sphinx rendered scikit-learn.org. See: https://github.com/scikit-learn/scikit-learn/issues/21755 */display: inline-block !important;position: relative;}#sk-container-id-1 div.sk-text-repr-fallback {display: none;}</style><div id=\"sk-container-id-1\" class=\"sk-top-container\"><div class=\"sk-text-repr-fallback\"><pre>RandomForestRegressor()</pre><b>In a Jupyter environment, please rerun this cell to show the HTML representation or trust the notebook. <br />On GitHub, the HTML representation is unable to render, please try loading this page with nbviewer.org.</b></div><div class=\"sk-container\" hidden><div class=\"sk-item\"><div class=\"sk-estimator sk-toggleable\"><input class=\"sk-toggleable__control sk-hidden--visually\" id=\"sk-estimator-id-1\" type=\"checkbox\" checked><label for=\"sk-estimator-id-1\" class=\"sk-toggleable__label sk-toggleable__label-arrow\">RandomForestRegressor</label><div class=\"sk-toggleable__content\"><pre>RandomForestRegressor()</pre></div></div></div></div></div>"
      ],
      "text/plain": [
       "RandomForestRegressor()"
      ]
     },
     "execution_count": 27,
     "metadata": {},
     "output_type": "execute_result"
    }
   ],
   "source": [
    "random_reg.fit(X_train, Y_train)"
   ]
  },
  {
   "cell_type": "code",
   "execution_count": 28,
   "id": "d2d58675",
   "metadata": {},
   "outputs": [],
   "source": [
    "test_data_pred = random_reg.predict(X_test)"
   ]
  },
  {
   "cell_type": "code",
   "execution_count": 29,
   "id": "c0180eb2",
   "metadata": {},
   "outputs": [
    {
     "data": {
      "text/plain": [
       "array([168.79959992,  82.23279981, 116.32250005, 127.43080111,\n",
       "       120.54650155, 154.63859794, 150.5257005 , 126.10030069,\n",
       "       117.99159882, 125.87590143, 116.15910097, 171.2800009 ,\n",
       "       142.17259862, 167.91389902, 115.43130028, 117.72860063,\n",
       "       139.74470262, 170.15000115, 159.4855039 , 159.64189978,\n",
       "       155.17490013, 125.63690012, 175.34800047, 157.31570358,\n",
       "       125.07160094,  93.7792992 ,  76.67229994, 120.27030007,\n",
       "       119.18850023, 167.29880044,  88.92449912, 125.39220125,\n",
       "        91.13650105, 117.92579955, 121.13269947, 136.70230061,\n",
       "       115.38810119, 116.92250062, 149.08209927, 107.40280097,\n",
       "       103.38300178,  87.20539803, 126.56010015, 117.53319916,\n",
       "       153.83889866, 119.86060009, 108.24050066, 108.0149983 ,\n",
       "        93.22279969, 127.03149801,  75.5445003 , 113.7280994 ,\n",
       "       121.19320007, 111.26879876, 118.94659914, 120.40179979,\n",
       "       159.2808007 , 167.26470199, 146.89859695,  86.58139963,\n",
       "        94.22950006,  86.91449838,  90.61220001, 118.68320102,\n",
       "       126.4647007 , 127.81630018, 168.71829926, 122.15419908,\n",
       "       117.1799993 , 100.11209957, 168.46000219, 142.6321984 ,\n",
       "       131.96770226, 121.09340213, 122.33519942, 119.84840059,\n",
       "       114.52200164, 118.47170055, 107.11760091, 127.92920016,\n",
       "       113.96969981, 107.53579991, 117.08730046, 119.63129885,\n",
       "        89.01750061,  88.05839855, 145.6203014 , 127.09249916,\n",
       "       112.87520065, 109.66009824, 108.2101991 ,  77.4891988 ,\n",
       "       169.61480177, 114.49779966, 121.88649929, 127.93210229,\n",
       "       154.88509927,  91.01299911, 134.00810108, 159.09160445,\n",
       "       124.05260058, 125.52720038, 130.80720109, 115.11090088,\n",
       "       119.78080042,  92.04299988, 110.57449869, 166.39329875,\n",
       "       156.38620073, 114.64160034, 106.64020111,  79.31889955,\n",
       "       113.36200027, 125.87080062, 107.25089907, 119.32150089,\n",
       "       155.65470258, 158.88350061, 119.70979984, 134.99100336,\n",
       "       101.48159953, 117.40149809, 119.40290043, 112.91240099,\n",
       "       102.79309916, 159.5969978 ,  98.87520011, 149.01859972,\n",
       "       125.57200064, 169.57819937, 126.11519827, 127.3983979 ,\n",
       "       127.21390141, 113.8301994 , 113.582001  , 124.05569963,\n",
       "       102.59329922,  89.68879977, 124.15079938, 101.33739942,\n",
       "       106.9753987 , 113.52100085, 117.4719008 ,  99.64719927,\n",
       "       121.8908    , 162.23769842,  87.2515982 , 106.74529987,\n",
       "       117.28190086, 127.78990067, 123.84400064,  81.05169917,\n",
       "       120.44270047, 154.67189912,  88.30229886, 110.33239947,\n",
       "       119.07969895, 172.09199865, 102.91029885, 105.7351    ,\n",
       "       122.44330066, 155.08729872,  87.72239841,  93.37710041,\n",
       "       112.61250066, 177.34610102, 113.65590007, 119.37850041,\n",
       "        95.35510088, 125.26959995, 165.73660134, 115.09650077,\n",
       "       117.07030143,  88.13969854, 149.45160018, 120.44569947,\n",
       "        89.4374    , 112.87350012, 116.29230027, 118.96840134,\n",
       "        88.18379936,  94.39009985, 116.58289951, 118.84830035,\n",
       "       120.01429999, 126.59529871, 121.79269963, 152.64439985,\n",
       "       165.31710077, 118.52369975, 120.2496006 , 148.40389994,\n",
       "       117.65709873, 172.58099889, 105.35699956, 105.34680004,\n",
       "       149.75910034, 113.23410082, 124.62660194, 148.44020192,\n",
       "       119.68500104, 115.54270075, 112.77120012, 113.32200195,\n",
       "       140.42260123, 117.64519804, 102.91600057, 116.0712008 ,\n",
       "       102.19980076,  99.2459    , 117.29470046,  90.65260016,\n",
       "        91.64680071, 153.21679982, 102.6746999 , 154.48360088,\n",
       "       114.33220144, 140.33200178,  89.87929796, 115.64149891,\n",
       "       112.90340106, 122.54980107, 121.61389998, 165.53290153,\n",
       "        92.88469903, 135.84630195, 121.36369953, 120.64050102,\n",
       "       104.69749991, 141.60080282, 122.55309956, 116.61470045,\n",
       "       113.81470124, 127.18939812, 122.14759971, 125.83429924,\n",
       "       121.23810029,  86.94169855, 132.34940223, 143.17370222,\n",
       "        93.12559941, 156.53830088, 158.45110393, 126.18229985,\n",
       "       164.19059905, 109.1304996 , 110.43930008, 103.70549802,\n",
       "        93.77830178, 127.66920259, 107.15900041, 158.72860099,\n",
       "       121.91149993, 131.77840037, 131.03650039, 160.04030069,\n",
       "        89.9179981 , 174.69980248, 128.52830025, 126.65789883,\n",
       "        86.6431992 , 124.44199917, 150.59559758,  89.70980038,\n",
       "       106.8093998 , 108.78719972,  84.743799  , 135.52300036,\n",
       "       154.20780016, 139.36060397,  75.25279984, 150.27309977,\n",
       "       126.00770078, 126.82780017, 127.5362986 , 108.50479925,\n",
       "       155.89600129, 114.54570098, 117.11230132, 124.73869973,\n",
       "       153.25850138, 121.01239984, 156.1737999 ,  92.88040011,\n",
       "       125.58260105, 125.02259976,  87.50059926,  91.90469944,\n",
       "       126.38099931, 127.59760303, 113.23870148, 117.20689754,\n",
       "       121.07159978, 127.27749828, 119.69080077, 136.47250061,\n",
       "        94.03799879, 120.09090071, 113.59220096,  94.32359938,\n",
       "       108.75939977,  86.87889916, 109.63469921,  89.58389957,\n",
       "        91.40190087, 131.84900105, 162.21110008,  89.77189908,\n",
       "       119.53420053, 133.35050182, 123.49099969, 127.76110003,\n",
       "       102.56139894,  88.79379868, 131.7265002 , 120.7051005 ,\n",
       "       108.60319991, 164.23730132, 115.41950094,  86.53459855,\n",
       "       118.98010068,  90.81819993, 161.78019998, 116.50480029,\n",
       "       121.35810008, 160.37489818, 118.98839996, 113.04319919,\n",
       "       108.47839874, 126.68239988,  76.10770021, 103.01779994,\n",
       "       127.67560259, 121.58459964,  92.78399915, 131.48980076,\n",
       "       118.03800041, 115.65240028, 155.11300202, 159.30130079,\n",
       "       110.22359935, 156.73099742, 119.32620068, 160.35780167,\n",
       "       118.55760099, 157.16490028, 115.05269929, 116.25540042,\n",
       "       149.18179962, 114.75060052, 125.48639858, 162.90059801,\n",
       "       117.58229979, 124.94919954, 153.52610299, 153.5549023 ,\n",
       "       132.28800176, 114.76010032, 121.10610234, 124.27090044,\n",
       "        90.28649947, 123.29890003, 154.34760134, 112.05670078,\n",
       "       106.5772999 , 162.41380182, 118.58589988, 165.76559994,\n",
       "       134.29490128, 114.9484002 , 152.96029905, 169.54520332,\n",
       "       115.79530017, 113.95690123, 158.46149904,  85.62479795,\n",
       "       127.25610052, 127.89790095, 128.7111    , 124.19110077,\n",
       "       123.33870012,  90.58300091, 152.89310128,  97.01209975,\n",
       "       136.30479981,  89.18879921, 107.59790003, 115.16200093,\n",
       "       112.75520147, 124.34629946,  91.42399888, 125.17230104,\n",
       "       162.22300026, 119.85059907, 165.03040102, 126.57769845,\n",
       "       112.36880047, 127.48799906,  94.15410182,  90.89459955,\n",
       "       102.54139913, 121.03390023,  82.83809942, 126.36180006,\n",
       "       160.96600487, 117.58890081, 117.93919903, 120.00190014,\n",
       "       122.64419994, 119.8906008 , 121.32320012, 118.16250012,\n",
       "       106.83919942, 147.97429891, 126.49339801, 115.712401  ,\n",
       "        73.95340029, 127.82270012, 155.52430093, 120.93500009,\n",
       "       125.47240039,  88.82049972, 102.90749847, 124.98200018,\n",
       "       120.42680007,  73.27210083, 150.9371015 , 121.08240045,\n",
       "       105.2770999 ,  86.55469764, 115.53929921, 172.1322974 ,\n",
       "       119.87300017, 159.5961989 , 113.30589919, 121.76000064,\n",
       "       118.57220069,  96.17299977, 118.79250009, 125.87580062,\n",
       "       118.49419955,  96.11400149, 154.28090168, 121.70810015,\n",
       "       147.37380108, 159.17860328, 113.56450042, 122.05629986,\n",
       "       153.51909964, 126.7125002 , 165.75890001, 135.7106006 ,\n",
       "       119.95089947, 167.49539865, 108.27679986, 121.49240026,\n",
       "       139.80680229, 106.48809908, 110.01999997, 113.37160061,\n",
       "        90.77249909, 125.675     , 119.85000101,  93.79780176,\n",
       "       152.11110042, 116.81070024,  81.27429927, 121.49600005,\n",
       "       102.49140116, 127.62589952, 123.33079871, 118.97790067,\n",
       "       120.58660042, 120.64590031, 131.60510038, 117.20529846,\n",
       "       117.45479853, 115.7709996 , 104.6688999 , 152.54860186,\n",
       "       109.9218973 , 126.13869947,  82.82419939, 179.53309834,\n",
       "        93.30860043, 167.27010059, 105.40700099, 171.58169869,\n",
       "       156.13090028, 132.36090193, 120.76959915, 123.34449876,\n",
       "       143.83520082, 124.91019927, 113.40990128, 125.63880089,\n",
       "       121.9501997 , 138.29800124,  76.49090018,  92.80200018,\n",
       "       113.71899904, 121.07379905, 127.81149946, 122.5004005 ,\n",
       "       126.17550168, 122.41090025, 119.30870049, 104.08529938,\n",
       "       118.1294995 ,  84.79429921,  92.70740101, 121.63719982,\n",
       "       118.28309991,  92.33670117, 125.55820074,  97.3256985 ,\n",
       "       104.5906997 ,  89.79759974, 149.12420076, 108.89659969,\n",
       "       120.36270113,  91.28250105, 118.90589991, 128.63459711,\n",
       "       112.12209952, 155.86190101, 150.99350195, 108.78440122,\n",
       "        96.31279935, 118.46049997, 124.87080108,  80.78549927,\n",
       "       116.15250079,  93.0599992 , 141.04880127, 108.09679955,\n",
       "       106.42210101,  88.24379938, 117.26409994, 110.62489805,\n",
       "       121.61410036, 136.16200058, 116.26980081, 119.78230085,\n",
       "       156.82300023, 106.94560189,  96.15410101, 136.25860062,\n",
       "       129.05660184, 122.91460027, 119.70760146, 115.75699986,\n",
       "       103.69570157, 118.6245989 , 121.22820114, 121.70690059,\n",
       "       156.22910054,  87.40649798, 164.01190044, 121.7327996 ,\n",
       "       118.84940028, 156.75220328, 159.21040158, 145.03159888,\n",
       "       114.88679958, 109.38880035, 126.70049889, 149.46800143,\n",
       "        94.30600166, 115.35410048, 122.20629963, 121.68489899,\n",
       "        87.37459845, 130.52170077, 130.75570281, 122.63009974,\n",
       "       113.03100138, 109.13809956, 154.07490212, 111.84240044,\n",
       "       113.01510048, 119.23299959, 113.75160142, 117.85060018,\n",
       "       124.37360023, 125.90459962, 135.48819788, 118.27240055,\n",
       "        91.71149893, 118.99990036, 118.86050189,  87.15829815,\n",
       "       119.2999995 , 116.8170015 , 117.45179874, 117.2526994 ,\n",
       "       160.45530072, 116.66890031,  86.30680103, 108.00469824,\n",
       "       124.01179995, 154.52360038, 117.77250083, 121.08710016,\n",
       "        86.16830073, 127.67730015, 143.92240193, 127.10829979,\n",
       "       162.12019919, 118.47950032, 117.3948987 , 118.19930037,\n",
       "       162.71480127, 125.90650028,  99.31229983,  89.7788995 ,\n",
       "       106.90160096, 123.75709995, 118.82179975, 120.09670015,\n",
       "        90.22399935,  92.63609954,  89.25989934, 108.95870001,\n",
       "        95.29940052, 145.73920061, 179.46709862, 155.39540041,\n",
       "       155.18920189, 122.02219982, 139.50100151,  86.8510987 ,\n",
       "       124.34800035, 119.30260098,  97.55780099, 124.84390097,\n",
       "        91.53750124,  93.00809991, 102.66479901, 117.61510067,\n",
       "        87.82189891, 153.56779859, 111.52620074, 109.45749834,\n",
       "       125.68980014, 169.39270269,  72.8698004 , 143.07350062,\n",
       "       124.65990115, 112.72620045, 129.1515978 ,  91.15599952,\n",
       "       126.5192003 , 159.12169984, 121.19070134, 121.09679875,\n",
       "       124.91280026, 147.0059999 , 120.05329862, 124.28969943,\n",
       "       127.84030132, 122.78159985, 144.53589925, 152.51829889,\n",
       "       120.35300052, 148.56999995, 117.07469911,  86.05079856,\n",
       "       120.84859975, 124.76700023, 125.64900009, 165.83799708,\n",
       "       123.24489996, 150.41190006, 125.47699981,  82.03789815,\n",
       "       154.66749845, 127.54609979,  88.18609816, 105.20559978,\n",
       "       122.10409968, 135.94699685, 168.56589469, 121.69450006,\n",
       "       114.96780063,  85.47109951, 111.95139991])"
      ]
     },
     "execution_count": 29,
     "metadata": {},
     "output_type": "execute_result"
    }
   ],
   "source": [
    "test_data_pred"
   ]
  },
  {
   "cell_type": "code",
   "execution_count": 30,
   "id": "65d0b248",
   "metadata": {},
   "outputs": [],
   "source": [
    "error = metrics.r2_score(Y_test, test_data_pred)"
   ]
  },
  {
   "cell_type": "code",
   "execution_count": 31,
   "id": "99f7a5c2",
   "metadata": {},
   "outputs": [
    {
     "data": {
      "text/plain": [
       "0.9885917842847157"
      ]
     },
     "execution_count": 31,
     "metadata": {},
     "output_type": "execute_result"
    }
   ],
   "source": [
    "error"
   ]
  },
  {
   "cell_type": "code",
   "execution_count": 32,
   "id": "c9658d82",
   "metadata": {},
   "outputs": [],
   "source": [
    "Y_test = list(Y_test)"
   ]
  },
  {
   "cell_type": "code",
   "execution_count": 33,
   "id": "b74567f3",
   "metadata": {},
   "outputs": [
    {
     "data": {
      "text/plain": [
       "687"
      ]
     },
     "execution_count": 33,
     "metadata": {},
     "output_type": "execute_result"
    }
   ],
   "source": [
    "len(Y_test)"
   ]
  },
  {
   "cell_type": "code",
   "execution_count": 34,
   "id": "2b1908ce",
   "metadata": {},
   "outputs": [
    {
     "data": {
      "image/png": "[encoded data removed]",
      "text/plain": [
       "<Figure size 640x480 with 1 Axes>"
      ]
     },
     "metadata": {},
     "output_type": "display_data"
    }
   ],
   "source": [
    "plt.plot(Y_test, color = 'green', label = 'Actual_value')\n",
    "plt.plot(test_data_pred, color = 'blue', label = 'predicted_value')\n",
    "plt.title('Actual_value vs predicted_value')\n",
    "plt.xlabel('number of Values')\n",
    "plt.ylabel('GLD price')\n",
    "plt.legend()\n",
    "plt.show()"
   ]
  },
  {
   "cell_type": "code",
   "execution_count": null,
   "id": "a49af2b3",
   "metadata": {},
   "outputs": [],
   "source": []
  }
 ],
 "metadata": {
  "kernelspec": {
   "display_name": "Python 3 (ipykernel)",
   "language": "python",
   "name": "python3"
  },
  "language_info": {
   "codemirror_mode": {
    "name": "ipython",
    "version": 3
   },
   "file_extension": ".py",
   "mimetype": "text/x-python",
   "name": "python",
   "nbconvert_exporter": "python",
   "pygments_lexer": "ipython3",
   "version": "3.11.5"
  }
 },
 "nbformat": 4,
 "nbformat_minor": 5
}
